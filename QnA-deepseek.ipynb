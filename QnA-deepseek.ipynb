{
 "cells": [
  {
   "cell_type": "code",
   "execution_count": 1,
   "id": "baf726aa-7a4d-42e0-aaa4-1a288fe581a1",
   "metadata": {
    "ExecutionIndicator": {
     "show": true
    },
    "execution": {
     "iopub.execute_input": "2024-09-26T11:28:23.982786Z",
     "iopub.status.busy": "2024-09-26T11:28:23.982417Z",
     "iopub.status.idle": "2024-09-26T11:28:23.989530Z",
     "shell.execute_reply": "2024-09-26T11:28:23.989070Z",
     "shell.execute_reply.started": "2024-09-26T11:28:23.982763Z"
    },
    "tags": []
   },
   "outputs": [
    {
     "data": {
      "text/plain": [
       "True"
      ]
     },
     "execution_count": 1,
     "metadata": {},
     "output_type": "execute_result"
    }
   ],
   "source": [
    "import os\n",
    "from dotenv import load_dotenv, find_dotenv\n",
    "# Load environment variables from .env file\n",
    "load_dotenv(find_dotenv()) # read local .env file"
   ]
  },
  {
   "cell_type": "code",
   "execution_count": 2,
   "id": "39f2ba59-dcd9-48d2-b6fe-2b32b325b055",
   "metadata": {
    "execution": {
     "iopub.execute_input": "2024-09-26T11:28:25.328994Z",
     "iopub.status.busy": "2024-09-26T11:28:25.328674Z",
     "iopub.status.idle": "2024-09-26T11:28:25.331654Z",
     "shell.execute_reply": "2024-09-26T11:28:25.331222Z",
     "shell.execute_reply.started": "2024-09-26T11:28:25.328974Z"
    },
    "tags": []
   },
   "outputs": [],
   "source": [
    "# Get the API key from environment variables\n",
    "deepseek_api_key = os.getenv('DEEPSEEK_API_KEY')\n",
    "\n",
    "# Check if the API key is available\n",
    "if not deepseek_api_key:\n",
    "    raise ValueError(\"API key not found in environment variables.\")"
   ]
  },
  {
   "cell_type": "code",
   "execution_count": 3,
   "id": "73c5f29d",
   "metadata": {},
   "outputs": [],
   "source": [
    "baichuan_api_key=os.getenv(\"BAICHUAN_AUTH_TOKEN\")\n",
    "if not baichuan_api_key:\n",
    "    raise ValueError(\"API key not found in environment variables.\")"
   ]
  },
  {
   "cell_type": "code",
   "execution_count": 4,
   "id": "9d167464-0f0d-4320-9955-f1566fbfcf38",
   "metadata": {
    "ExecutionIndicator": {
     "show": true
    },
    "execution": {
     "iopub.execute_input": "2024-09-26T11:50:11.369428Z",
     "iopub.status.busy": "2024-09-26T11:50:11.369098Z",
     "iopub.status.idle": "2024-09-26T11:50:11.406102Z",
     "shell.execute_reply": "2024-09-26T11:50:11.405667Z",
     "shell.execute_reply.started": "2024-09-26T11:50:11.369408Z"
    },
    "tags": []
   },
   "outputs": [
    {
     "name": "stderr",
     "output_type": "stream",
     "text": [
      "/Users/xuchen/Desktop/Project-ChatPDF-LLM-Development-with-LangChain/.qna/lib/python3.9/site-packages/urllib3/__init__.py:35: NotOpenSSLWarning: urllib3 v2 only supports OpenSSL 1.1.1+, currently the 'ssl' module is compiled with 'LibreSSL 2.8.3'. See: https://github.com/urllib3/urllib3/issues/3020\n",
      "  warnings.warn(\n"
     ]
    },
    {
     "name": "stdout",
     "output_type": "stream",
     "text": [
      "1\n"
     ]
    }
   ],
   "source": [
    "# Import PyPDFLoader from langchain_community\n",
    "from langchain_community.document_loaders import PyPDFLoader\n",
    "\n",
    "# Specify the path to the PDF file\n",
    "file_path = \"book/1.pdf\"\n",
    "\n",
    "# Create a PyPDFLoader instance\n",
    "loader = PyPDFLoader(file_path)\n",
    "# Load the PDF document\n",
    "docs = loader.load()\n",
    "# Print the number of pages in the document\n",
    "print(len(docs))"
   ]
  },
  {
   "cell_type": "code",
   "execution_count": 5,
   "id": "dedde21c-b325-4ca7-92fe-cdf46456a4f9",
   "metadata": {
    "execution": {
     "iopub.execute_input": "2024-09-26T11:50:47.311130Z",
     "iopub.status.busy": "2024-09-26T11:50:47.310803Z",
     "iopub.status.idle": "2024-09-26T11:50:47.314143Z",
     "shell.execute_reply": "2024-09-26T11:50:47.313657Z",
     "shell.execute_reply.started": "2024-09-26T11:50:47.311110Z"
    },
    "tags": []
   },
   "outputs": [
    {
     "name": "stdout",
     "output_type": "stream",
     "text": [
      "第一回 桃园结义\n",
      "  　　东汉末年，朝政腐败，再加上连年灾荒，老百姓的日子非常困苦。巨鹿人张角见人民怨恨官府，便与\n",
      "他的弟弟张梁、张宝在河北、河南、山东、湖北、江苏等地，招收了五十万人，举行起义，一起\n",
      "{'source': 'book/1.pdf', 'page': 0}\n"
     ]
    }
   ],
   "source": [
    "# Print the first 100 characters of the content from the first page\n",
    "print(docs[0].page_content[0:100])\n",
    "# Print the metadata of the first page\n",
    "print(docs[0].metadata)"
   ]
  },
  {
   "cell_type": "code",
   "execution_count": 6,
   "id": "f3125def-9809-4352-bb8a-74f6b2aee73a",
   "metadata": {},
   "outputs": [],
   "source": [
    "# Import ChatOpenAI from langchain_openai\n",
    "from langchain_openai import ChatOpenAI\n",
    "# Initialize a ChatOpenAI instance with deepseek model\n",
    "llm = ChatOpenAI(\n",
    "    model=\"deepseek-chat\",\n",
    "    openai_api_key=deepseek_api_key,\n",
    "    openai_api_base=\"https://api.deepseek.com\",\n",
    "    max_tokens=1024\n",
    "    )"
   ]
  },
  {
   "cell_type": "code",
   "execution_count": 7,
   "id": "a2940daa-e67c-4273-9138-991135f6bc08",
   "metadata": {},
   "outputs": [],
   "source": [
    "from langchain_chroma import Chroma\n",
    "from langchain_community.embeddings import BaichuanTextEmbeddings\n",
    "from langchain_text_splitters import RecursiveCharacterTextSplitter\n",
    "\n",
    "# Using a text splitter, split the loaded documents into smaller documents that can more easily fit into an LLM's context window,\n",
    "text_splitter = RecursiveCharacterTextSplitter(chunk_size=1000, chunk_overlap=200)\n",
    "splits = text_splitter.split_documents(docs)\n",
    "# then load them into a vector store\n",
    "vectorstore = Chroma.from_documents(documents=splits, embedding=BaichuanTextEmbeddings(baichuan_api_key=baichuan_api_key))\n",
    "# then create a retriever from the vector store for use in our RAG chain\n",
    "retriever = vectorstore.as_retriever()"
   ]
  },
  {
   "cell_type": "code",
   "execution_count": 8,
   "id": "deda97d5-19e3-4d64-b924-88f96425d4bc",
   "metadata": {},
   "outputs": [
    {
     "name": "stderr",
     "output_type": "stream",
     "text": [
      "Number of requested results 4 is greater than number of elements in index 2, updating n_results = 2\n"
     ]
    },
    {
     "data": {
      "text/plain": [
       "{'input': '桃园三结义都有谁?',\n",
       " 'context': [Document(metadata={'page': 0, 'source': 'book/1.pdf'}, page_content='第一回 桃园结义\\n  \\u3000\\u3000东汉末年，朝政腐败，再加上连年灾荒，老百姓的日子非常困苦。巨鹿人张角见人民怨恨官府，便与\\n他的弟弟张梁、张宝在河北、河南、山东、湖北、江苏等地，招收了五十万人，举行起义，一起向官兵进攻。\\n\\u3000\\u3000没有几天，四方百姓，头裹黄巾，跟随张角三兄弟杀向官府，声势非常浩大。汉灵帝得到各地报告，连忙\\n下令各地官军防备。又派中郎将卢植、皇甫嵩、朱隽率领一精一兵，分路攻打张角兄弟的黄巾军。\\n\\u3000\\u3000张角领军攻打幽州地界，幽州太守连忙召校尉邹靖商议，邹靖说幽州兵少不能抵挡。建议写榜文到各县招\\n募兵马。\\n\\u3000\\u3000榜文行到涿县，引出一名英雄，这人姓刘名备，字玄德。因家里贫寒，靠贩麻鞋、织草席为生。这天他进\\n城来看榜文。\\n\\u3000\\u3000刘备看完了榜文，不觉感慨地长叹了一声。忽听身后有个人大声喝道∶“大丈夫不给国家出力，叹什么\\n气？”\\n\\u3000\\u3000刘备回头一看，这人身高八尺，豹子头，圆眼睛，满腮的胡须像钢丝一样竖着，声音像洪钟，样子十分威\\n武。那人对刘备说他姓张名飞，字翼德，做着卖酒、屠宰猪羊的生意。他愿意拿出家产作本钱，与刘备共同干\\n一番大事业。\\n\\u3000\\u3000刘备、张飞两人谈得投机，便一起到村 口的一家酒 店饮酒叙话。\\n\\u3000\\u3000这时，一推车大汉进店饮酒。刘备 留神一看，这人有 九尺高，胸前长须飘飘，脸色好像红枣一样，长一 双\\n丹凤眼，两条卧蚕眉，相貌非常威武雄 伟。刘备连忙起身， 邀他过来同坐，并请问姓名。\\n\\u3000\\u3000那人说∶“ 我姓关名羽，字云长，因乡里恶霸仗势欺人，我一怒杀了恶霸，逃到外乡避难已有五、六年\\n了。”刘备、张飞听了 都很敬佩，也将自己的志愿告诉了关羽。关羽听了也非常高兴。\\n\\u3000\\u3000酒后他 们一同来到张飞的 庄上，只见庄后有一座桃园，园中桃 花灿烂，景色很美。第二天，三人在园中 焚\\n香礼拜，宣誓结为异姓兄弟，三人 按年岁认了兄弟，刘备做了大 哥，关羽第二，张飞最小，做了弟弟。\\n\\u3000\\u3000三人 请来铁匠打造兵器。刘备打 造了双股剑，关羽打了把八十二斤的青龙偃月刀，张飞造了一支丈八点钢\\n矛，各人又 造了一身铠甲。\\n\\u3000\\u3000他们聚集乡中壮士五百多人，浩浩 荡荡到涿郡去应募。\\n\\u3000\\u3000三人在涿 郡打败了黄巾军将领 程远志。刘备听说他 从前的老师中郎将卢植在 广宗和张角作战，便领了本 部\\n人马到广宗助战。卢植令刘备三兄弟 前往颍川帮助官军作战。刘备、 关羽、张飞引军连 夜奔赴颍川。'),\n",
       "  Document(metadata={'page': 0, 'source': 'book/1.pdf'}, page_content='三人 请来铁匠打造兵器。刘备打 造了双股剑，关羽打了把八十二斤的青龙偃月刀，张飞造了一支丈八点钢\\n矛，各人又 造了一身铠甲。\\n\\u3000\\u3000他们聚集乡中壮士五百多人，浩浩 荡荡到涿郡去应募。\\n\\u3000\\u3000三人在涿 郡打败了黄巾军将领 程远志。刘备听说他 从前的老师中郎将卢植在 广宗和张角作战，便领了本 部\\n人马到广宗助战。卢植令刘备三兄弟 前往颍川帮助官军作战。刘备、 关羽、张飞引军连 夜奔赴颍川。\\n\\u3000\\u3000再说张梁、张宝在 颍川连胜几阵，这天正在追赶官军，忽 然被一队打着红旗的队伍拦住去路。为首一将姓\\n曹名操，字孟德。张梁、张宝打不 过这支队伍，领兵败 走。\\n\\u3000\\u3000刘备见黄巾军 退走，便引军 返回广宗。半途中，忽见一 支军马押着囚车而来。上前一看，车中犯人竟是卢\\n植，慌忙下马询问原因，才明白左丰因卢植未奉送金银，便在皇帝 面前使坏。张飞一听大 怒，拔刀要杀押送囚\\n车的官兵救出卢植。刘备 急忙拦住，说朝廷自有公论。\\n\\u3000\\u3000三人便一 齐回涿县去。正进间，见黄巾军 把董卓领导的官军杀得大败。三人 冲入阵中，救出了董卓。不料\\n董卓一听三人 并无官职，立刻把三人丢在外边，下马进 帐去了。张飞 顿时火冒三丈，便 拔刀进帐要杀董卓，又\\n被刘备劝住。三人于是领着人马，连 夜去投朱隽。\\n\\u3000\\u3000朱隽那 时正在与黄巾军作 战，便令刘备为 先锋去攻打张宝。刘备一 箭射中张宝左臂，关羽、张飞一 齐出马\\n助战，打败了张宝。朱隽便领大军 去攻打宛城。\\n\\u3000\\u3000这时，张角兄弟 先后战死，黄巾军 只剩下数万人屯住宛城一带。\\n\\u3000\\u3000朱隽在刘备、 关羽、张飞和吴郡人孙坚的帮助下，占了宛城，打败了黄巾军。朱隽回到 京城，被封为车骑\\n将军、河南 尹。\\n\\u3000\\u3000朱隽 表奏了孙坚、刘备的 功勋。刘备因朝中 无人说情，被封为中山府 安喜县县尉。不 久，督邮来到安喜。\\n刘备因没有向 督邮送钱被督邮陷害。刘备几 次到馆驿求见督邮，都被看门人拦住，拒于门外。\\n\\u3000\\u3000消息传到张飞耳中，张飞气得两眼圆 睁，冲进馆驿揪住督邮的头发，扯到县衙前，绑在马桩上，用柳条使\\n劲抽打，一连打 断十几根柳条，打得督邮杀猪般叫喊求饶。\\n\\u3000\\u3000刘备 遭督邮欺辱，便取出县尉官 印，挂在督邮脖子上，弃官而去。兄弟三人 依旧带了几十名 亲随，离开安\\n喜县城，前往幽州投靠刘 恢。')],\n",
       " 'answer': '桃园三结义的成员是刘备、关羽和张飞。'}"
      ]
     },
     "execution_count": 8,
     "metadata": {},
     "output_type": "execute_result"
    }
   ],
   "source": [
    "from langchain.chains import create_retrieval_chain\n",
    "from langchain.chains.combine_documents import create_stuff_documents_chain\n",
    "from langchain_core.prompts import ChatPromptTemplate\n",
    "\n",
    "system_prompt = (\n",
    "    \"You are an assistant for question-answering tasks. \"\n",
    "    \"Use the following pieces of retrieved context to answer \"\n",
    "    \"the question. If you don't know the answer, say that you \"\n",
    "    \"don't know. Use three sentences maximum and keep the \"\n",
    "    \"answer concise.\"\n",
    "    \"\\n\\n\"\n",
    "    \"{context}\"\n",
    ")\n",
    "\n",
    "prompt = ChatPromptTemplate.from_messages(\n",
    "    [\n",
    "        (\"system\", system_prompt),\n",
    "        (\"human\", \"{input}\"),\n",
    "    ]\n",
    ")\n",
    "\n",
    "\n",
    "question_answer_chain = create_stuff_documents_chain(llm, prompt)\n",
    "rag_chain = create_retrieval_chain(retriever, question_answer_chain)\n",
    "\n",
    "results = rag_chain.invoke({\"input\": \"桃园三结义都有谁?\"})\n",
    "\n",
    "results"
   ]
  },
  {
   "cell_type": "code",
   "execution_count": 9,
   "id": "cf1d7149-2041-4ddb-9f40-180775cc722b",
   "metadata": {},
   "outputs": [
    {
     "name": "stdout",
     "output_type": "stream",
     "text": [
      "第一回 桃园结义\n",
      "  　　东汉末年，朝政腐败，再加上连年灾荒，老百姓的日子非常困苦。巨鹿人张角见人民怨恨官府，便与\n",
      "他的弟弟张梁、张宝在河北、河南、山东、湖北、江苏等地，招收了五十万人，举行起义，一起向官兵进攻。\n",
      "　　没有几天，四方百姓，头裹黄巾，跟随张角三兄弟杀向官府，声势非常浩大。汉灵帝得到各地报告，连忙\n",
      "下令各地官军防备。又派中郎将卢植、皇甫嵩、朱隽率领一精一兵，分路攻打张角兄弟的黄巾军。\n",
      "　　张角领军攻打幽州地界，幽州太守连忙召校尉邹靖商议，邹靖说幽州兵少不能抵挡。建议写榜文到各县招\n",
      "募兵马。\n",
      "　　榜文行到涿县，引出一名英雄，这人姓刘名备，字玄德。因家里贫寒，靠贩麻鞋、织草席为生。这天他进\n",
      "城来看榜文。\n",
      "　　刘备看完了榜文，不觉感慨地长叹了一声。忽听身后有个人大声喝道∶“大丈夫不给国家出力，叹什么\n",
      "气？”\n",
      "　　刘备回头一看，这人身高八尺，豹子头，圆眼睛，满腮的胡须像钢丝一样竖着，声音像洪钟，样子十分威\n",
      "武。那人对刘备说他姓张名飞，字翼德，做着卖酒、屠宰猪羊的生意。他愿意拿出家产作本钱，与刘备共同干\n",
      "一番大事业。\n",
      "　　刘备、张飞两人谈得投机，便一起到村 口的一家酒 店饮酒叙话。\n",
      "　　这时，一推车大汉进店饮酒。刘备 留神一看，这人有 九尺高，胸前长须飘飘，脸色好像红枣一样，长一 双\n",
      "丹凤眼，两条卧蚕眉，相貌非常威武雄 伟。刘备连忙起身， 邀他过来同坐，并请问姓名。\n",
      "　　那人说∶“ 我姓关名羽，字云长，因乡里恶霸仗势欺人，我一怒杀了恶霸，逃到外乡避难已有五、六年\n",
      "了。”刘备、张飞听了 都很敬佩，也将自己的志愿告诉了关羽。关羽听了也非常高兴。\n",
      "　　酒后他 们一同来到张飞的 庄上，只见庄后有一座桃园，园中桃 花灿烂，景色很美。第二天，三人在园中 焚\n",
      "香礼拜，宣誓结为异姓兄弟，三人 按年岁认了兄弟，刘备做了大 哥，关羽第二，张飞最小，做了弟弟。\n",
      "　　三人 请来铁匠打造兵器。刘备打 造了双股剑，关羽打了把八十二斤的青龙偃月刀，张飞造了一支丈八点钢\n",
      "矛，各人又 造了一身铠甲。\n",
      "　　他们聚集乡中壮士五百多人，浩浩 荡荡到涿郡去应募。\n",
      "　　三人在涿 郡打败了黄巾军将领 程远志。刘备听说他 从前的老师中郎将卢植在 广宗和张角作战，便领了本 部\n",
      "人马到广宗助战。卢植令刘备三兄弟 前往颍川帮助官军作战。刘备、 关羽、张飞引军连 夜奔赴颍川。\n"
     ]
    }
   ],
   "source": [
    "print(results[\"context\"][0].page_content)"
   ]
  },
  {
   "cell_type": "code",
   "execution_count": 10,
   "id": "6f512d87-894c-406a-ae9a-cd4c18b95bd4",
   "metadata": {},
   "outputs": [
    {
     "name": "stdout",
     "output_type": "stream",
     "text": [
      "{'page': 0, 'source': 'book/1.pdf'}\n"
     ]
    }
   ],
   "source": [
    "print(results[\"context\"][0].metadata)"
   ]
  },
  {
   "cell_type": "code",
   "execution_count": null,
   "id": "586ecfa7",
   "metadata": {},
   "outputs": [],
   "source": []
  },
  {
   "cell_type": "markdown",
   "id": "8d9fc37c",
   "metadata": {},
   "source": [
    "resource: https://python.langchain.com/docs/tutorials/pdf_qa/"
   ]
  },
  {
   "cell_type": "markdown",
   "id": "66ead0f7",
   "metadata": {},
   "source": []
  }
 ],
 "metadata": {
  "kernelspec": {
   "display_name": "Python 3 (ipykernel)",
   "language": "python",
   "name": "python3"
  },
  "language_info": {
   "codemirror_mode": {
    "name": "ipython",
    "version": 3
   },
   "file_extension": ".py",
   "mimetype": "text/x-python",
   "name": "python",
   "nbconvert_exporter": "python",
   "pygments_lexer": "ipython3",
   "version": "3.9.6"
  }
 },
 "nbformat": 4,
 "nbformat_minor": 5
}
