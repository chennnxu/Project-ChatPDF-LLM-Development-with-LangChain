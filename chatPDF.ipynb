{
 "cells": [
  {
   "cell_type": "code",
   "execution_count": 1,
   "id": "d68fa52a-82e1-4921-bc3f-ec28c222285e",
   "metadata": {
    "ExecutionIndicator": {
     "show": true
    },
    "execution": {
     "iopub.execute_input": "2024-09-25T15:56:09.711346Z",
     "iopub.status.busy": "2024-09-25T15:56:09.711030Z",
     "iopub.status.idle": "2024-09-25T15:56:09.771621Z",
     "shell.execute_reply": "2024-09-25T15:56:09.771212Z",
     "shell.execute_reply.started": "2024-09-25T15:56:09.711314Z"
    },
    "tags": []
   },
   "outputs": [],
   "source": [
    "from tqdm.notebook import tqdm, trange"
   ]
  },
  {
   "cell_type": "code",
   "execution_count": 2,
   "id": "8238c07e-612a-4ff5-b0c2-dc24d1fb9d05",
   "metadata": {
    "ExecutionIndicator": {
     "show": true
    },
    "execution": {
     "iopub.execute_input": "2024-09-25T15:56:11.625290Z",
     "iopub.status.busy": "2024-09-25T15:56:11.624975Z",
     "iopub.status.idle": "2024-09-25T15:56:14.823341Z",
     "shell.execute_reply": "2024-09-25T15:56:14.822823Z",
     "shell.execute_reply.started": "2024-09-25T15:56:11.625271Z"
    },
    "scrolled": true,
    "tags": []
   },
   "outputs": [
    {
     "name": "stderr",
     "output_type": "stream",
     "text": [
      "/usr/local/lib/python3.10/site-packages/sentence_transformers/cross_encoder/CrossEncoder.py:13: TqdmExperimentalWarning: Using `tqdm.autonotebook.tqdm` in notebook mode. Use `tqdm.tqdm` instead to force console mode (e.g. in jupyter console)\n",
      "  from tqdm.autonotebook import tqdm, trange\n",
      "/usr/local/lib/python3.10/site-packages/awq/modules/linear/exllama.py:12: UserWarning: AutoAWQ could not load ExLlama kernels extension. Details: libcudart.so.12: cannot open shared object file: No such file or directory\n",
      "  warnings.warn(f\"AutoAWQ could not load ExLlama kernels extension. Details: {ex}\")\n",
      "/usr/local/lib/python3.10/site-packages/awq/modules/linear/exllamav2.py:13: UserWarning: AutoAWQ could not load ExLlamaV2 kernels extension. Details: libcudart.so.12: cannot open shared object file: No such file or directory\n",
      "  warnings.warn(f\"AutoAWQ could not load ExLlamaV2 kernels extension. Details: {ex}\")\n",
      "/usr/local/lib/python3.10/site-packages/awq/modules/linear/gemm.py:14: UserWarning: AutoAWQ could not load GEMM kernels extension. Details: libcudart.so.12: cannot open shared object file: No such file or directory\n",
      "  warnings.warn(f\"AutoAWQ could not load GEMM kernels extension. Details: {ex}\")\n",
      "/usr/local/lib/python3.10/site-packages/awq/modules/linear/gemv.py:11: UserWarning: AutoAWQ could not load GEMV kernels extension. Details: libcudart.so.12: cannot open shared object file: No such file or directory\n",
      "  warnings.warn(f\"AutoAWQ could not load GEMV kernels extension. Details: {ex}\")\n",
      "/usr/local/lib/python3.10/site-packages/awq/modules/linear/gemv_fast.py:10: UserWarning: AutoAWQ could not load GEMVFast kernels extension. Details: libcudart.so.12: cannot open shared object file: No such file or directory\n",
      "  warnings.warn(f\"AutoAWQ could not load GEMVFast kernels extension. Details: {ex}\")\n"
     ]
    }
   ],
   "source": [
    "from langchain.document_loaders import PyPDFLoader\n",
    "from langchain.vectorstores import Chroma\n",
    "# from langchain.embeddings import OpenAIEmbeddings\n",
    "from langchain_community.embeddings import BaichuanTextEmbeddings\n",
    "from langchain.document_loaders import UnstructuredPDFLoader\n",
    "# from langchain.llms import OpenAI\n",
    "from langchain_community.llms.chatglm3 import ChatGLM3\n",
    "from langchain.chains.question_answering import load_qa_chain\n",
    "\n",
    "from sentence_transformers import SentenceTransformer\n"
   ]
  },
  {
   "cell_type": "code",
   "execution_count": 4,
   "id": "76eabaed-fa51-4391-a198-bef6e612d884",
   "metadata": {
    "ExecutionIndicator": {
     "show": true
    },
    "execution": {
     "iopub.execute_input": "2024-09-25T15:56:24.353211Z",
     "iopub.status.busy": "2024-09-25T15:56:24.352826Z",
     "iopub.status.idle": "2024-09-25T15:56:24.427987Z",
     "shell.execute_reply": "2024-09-25T15:56:24.427428Z",
     "shell.execute_reply.started": "2024-09-25T15:56:24.353191Z"
    },
    "tags": []
   },
   "outputs": [
    {
     "name": "stdout",
     "output_type": "stream",
     "text": [
      "[Document(metadata={'source': 'book/1.pdf', 'page': 0}, page_content='第一回 桃园结义\\n  \\u3000\\u3000东汉末年，朝政腐败，再加上连年灾荒，老百姓的日子非常困苦。巨鹿人张角见人民怨恨官府，便与\\n他的弟弟张梁、张宝在河北、河南、山东、湖北、江苏等地，招收了五十万人，举行起义，一起向官兵进攻。\\n\\u3000\\u3000没有几天，四方百姓，头裹黄巾，跟随张角三兄弟杀向官府，声势非常浩大。汉灵帝得到各地报告，连忙\\n下令各地官军防备。又派中郎将卢植、皇甫嵩、朱隽率领一精一兵，分路攻打张角兄弟的黄巾军。\\n\\u3000\\u3000张角领军攻打幽州地界，幽州太守连忙召校尉邹靖商议，邹靖说幽州兵少不能抵挡。建议写榜文到各县招\\n募兵马。\\n\\u3000\\u3000榜文行到涿县，引出一名英雄，这人姓刘名备，字玄德。因家里贫寒，靠贩麻鞋、织草席为生。这天他进\\n城来看榜文。\\n\\u3000\\u3000刘备看完了榜文，不觉感慨地长叹了一声。忽听身后有个人大声喝道∶“大丈夫不给国家出力，叹什么\\n气？”\\n\\u3000\\u3000刘备回头一看，这人身高八尺，豹子头，圆眼睛，满腮的胡须像钢丝一样竖着，声音像洪钟，样子十分威\\n武。那人对刘备说他姓张名飞，字翼德，做着卖酒、屠宰猪羊的生意。他愿意拿出家产作本钱，与刘备共同干\\n一番大事业。\\n\\u3000\\u3000刘备、张飞两人谈得投机，便一起到村 口的一家酒 店饮酒叙话。\\n\\u3000\\u3000这时，一推车大汉进店饮酒。刘备 留神一看，这人有 九尺高，胸前长须飘飘，脸色好像红枣一样，长一 双\\n丹凤眼，两条卧蚕眉，相貌非常威武雄 伟。刘备连忙起身， 邀他过来同坐，并请问姓名。\\n\\u3000\\u3000那人说∶“ 我姓关名羽，字云长，因乡里恶霸仗势欺人，我一怒杀了恶霸，逃到外乡避难已有五、六年\\n了。”刘备、张飞听了 都很敬佩，也将自己的志愿告诉了关羽。关羽听了也非常高兴。\\n\\u3000\\u3000酒后他 们一同来到张飞的 庄上，只见庄后有一座桃园，园中桃 花灿烂，景色很美。第二天，三人在园中 焚\\n香礼拜，宣誓结为异姓兄弟，三人 按年岁认了兄弟，刘备做了大 哥，关羽第二，张飞最小，做了弟弟。\\n\\u3000\\u3000三人 请来铁匠打造兵器。刘备打 造了双股剑，关羽打了把八十二斤的青龙偃月刀，张飞造了一支丈八点钢\\n矛，各人又 造了一身铠甲。\\n\\u3000\\u3000他们聚集乡中壮士五百多人，浩浩 荡荡到涿郡去应募。\\n\\u3000\\u3000三人在涿 郡打败了黄巾军将领 程远志。刘备听说他 从前的老师中郎将卢植在 广宗和张角作战，便领了本 部\\n人马到广宗助战。卢植令刘备三兄弟 前往颍川帮助官军作战。刘备、 关羽、张飞引军连 夜奔赴颍川。\\n\\u3000\\u3000再说张梁、张宝在 颍川连胜几阵，这天正在追赶官军，忽 然被一队打着红旗的队伍拦住去路。为首一将姓\\n曹名操，字孟德。张梁、张宝打不 过这支队伍，领兵败 走。\\n\\u3000\\u3000刘备见黄巾军 退走，便引军 返回广宗。半途中，忽见一 支军马押着囚车而来。上前一看，车中犯人竟是卢\\n植，慌忙下马询问原因，才明白左丰因卢植未奉送金银，便在皇帝 面前使坏。张飞一听大 怒，拔刀要杀押送囚\\n车的官兵救出卢植。刘备 急忙拦住，说朝廷自有公论。\\n\\u3000\\u3000三人便一 齐回涿县去。正进间，见黄巾军 把董卓领导的官军杀得大败。三人 冲入阵中，救出了董卓。不料\\n董卓一听三人 并无官职，立刻把三人丢在外边，下马进 帐去了。张飞 顿时火冒三丈，便 拔刀进帐要杀董卓，又\\n被刘备劝住。三人于是领着人马，连 夜去投朱隽。\\n\\u3000\\u3000朱隽那 时正在与黄巾军作 战，便令刘备为 先锋去攻打张宝。刘备一 箭射中张宝左臂，关羽、张飞一 齐出马\\n助战，打败了张宝。朱隽便领大军 去攻打宛城。\\n\\u3000\\u3000这时，张角兄弟 先后战死，黄巾军 只剩下数万人屯住宛城一带。\\n\\u3000\\u3000朱隽在刘备、 关羽、张飞和吴郡人孙坚的帮助下，占了宛城，打败了黄巾军。朱隽回到 京城，被封为车骑\\n将军、河南 尹。\\n\\u3000\\u3000朱隽 表奏了孙坚、刘备的 功勋。刘备因朝中 无人说情，被封为中山府 安喜县县尉。不 久，督邮来到安喜。\\n刘备因没有向 督邮送钱被督邮陷害。刘备几 次到馆驿求见督邮，都被看门人拦住，拒于门外。\\n\\u3000\\u3000消息传到张飞耳中，张飞气得两眼圆 睁，冲进馆驿揪住督邮的头发，扯到县衙前，绑在马桩上，用柳条使\\n劲抽打，一连打 断十几根柳条，打得督邮杀猪般叫喊求饶。\\n\\u3000\\u3000刘备 遭督邮欺辱，便取出县尉官 印，挂在督邮脖子上，弃官而去。兄弟三人 依旧带了几十名 亲随，离开安\\n喜县城，前往幽州投靠刘 恢。')]\n"
     ]
    }
   ],
   "source": [
    "# loader = UnstructuredPDFLoader(\"book/1.pdf\")\n",
    "loader = PyPDFLoader(\"book/1.pdf\")\n",
    "pages = loader.load_and_split()\n",
    "print(pages[:1])  # Check the first page content"
   ]
  },
  {
   "cell_type": "code",
   "execution_count": 11,
   "id": "fa62b14f-a86f-475d-8d0a-ad2287d8dc08",
   "metadata": {
    "ExecutionIndicator": {
     "show": false
    },
    "execution": {
     "iopub.execute_input": "2024-09-25T16:05:07.507831Z",
     "iopub.status.busy": "2024-09-25T16:05:07.507477Z",
     "iopub.status.idle": "2024-09-25T16:05:07.510486Z",
     "shell.execute_reply": "2024-09-25T16:05:07.510020Z",
     "shell.execute_reply.started": "2024-09-25T16:05:07.507809Z"
    },
    "tags": []
   },
   "outputs": [],
   "source": [
    "os.environ.get(\"BAICHUAN_API_KEY\")"
   ]
  },
  {
   "cell_type": "code",
   "execution_count": 13,
   "id": "aa5c37d9-1e58-4794-b443-2817318cc042",
   "metadata": {
    "ExecutionIndicator": {
     "show": true
    },
    "execution": {
     "iopub.execute_input": "2024-09-25T16:07:06.256758Z",
     "iopub.status.busy": "2024-09-25T16:07:06.256415Z",
     "iopub.status.idle": "2024-09-25T16:07:06.283347Z",
     "shell.execute_reply": "2024-09-25T16:07:06.282684Z",
     "shell.execute_reply.started": "2024-09-25T16:07:06.256739Z"
    },
    "tags": []
   },
   "outputs": [
    {
     "ename": "ValidationError",
     "evalue": "1 validation error for BaichuanTextEmbeddings\n__root__\n  Did not find baichuan_auth_token, please add an environment variable `BAICHUAN_AUTH_TOKEN` which contains it, or pass `baichuan_auth_token` as a named parameter. (type=value_error)",
     "output_type": "error",
     "traceback": [
      "\u001b[0;31m---------------------------------------------------------------------------\u001b[0m",
      "\u001b[0;31mValidationError\u001b[0m                           Traceback (most recent call last)",
      "Cell \u001b[0;32mIn[13], line 2\u001b[0m\n\u001b[1;32m      1\u001b[0m \u001b[38;5;66;03m# embeddings = OpenAIEmbeddings()\u001b[39;00m\n\u001b[0;32m----> 2\u001b[0m embeddings \u001b[38;5;241m=\u001b[39m \u001b[43mBaichuanTextEmbeddings\u001b[49m\u001b[43m(\u001b[49m\u001b[43mapi_key\u001b[49m\u001b[38;5;241;43m=\u001b[39;49m\u001b[43mbaichuan_auth_token\u001b[49m\u001b[43m)\u001b[49m\n\u001b[1;32m      4\u001b[0m docsearch \u001b[38;5;241m=\u001b[39m Chroma\u001b[38;5;241m.\u001b[39mfrom_documents(pages, embeddings)\u001b[38;5;241m.\u001b[39mas_retriever()\n\u001b[1;32m      5\u001b[0m docsearch\n",
      "File \u001b[0;32m/usr/local/lib/python3.10/site-packages/pydantic/v1/main.py:341\u001b[0m, in \u001b[0;36mBaseModel.__init__\u001b[0;34m(__pydantic_self__, **data)\u001b[0m\n\u001b[1;32m    339\u001b[0m values, fields_set, validation_error \u001b[38;5;241m=\u001b[39m validate_model(__pydantic_self__\u001b[38;5;241m.\u001b[39m\u001b[38;5;18m__class__\u001b[39m, data)\n\u001b[1;32m    340\u001b[0m \u001b[38;5;28;01mif\u001b[39;00m validation_error:\n\u001b[0;32m--> 341\u001b[0m     \u001b[38;5;28;01mraise\u001b[39;00m validation_error\n\u001b[1;32m    342\u001b[0m \u001b[38;5;28;01mtry\u001b[39;00m:\n\u001b[1;32m    343\u001b[0m     object_setattr(__pydantic_self__, \u001b[38;5;124m'\u001b[39m\u001b[38;5;124m__dict__\u001b[39m\u001b[38;5;124m'\u001b[39m, values)\n",
      "\u001b[0;31mValidationError\u001b[0m: 1 validation error for BaichuanTextEmbeddings\n__root__\n  Did not find baichuan_auth_token, please add an environment variable `BAICHUAN_AUTH_TOKEN` which contains it, or pass `baichuan_auth_token` as a named parameter. (type=value_error)"
     ]
    }
   ],
   "source": [
    "# embeddings = OpenAIEmbeddings()\n",
    "embeddings = BaichuanTextEmbeddings(api_key=baichuan_auth_token)\n",
    "\n",
    "docsearch = Chroma.from_documents(pages, embeddings).as_retriever()\n",
    "docsearch"
   ]
  },
  {
   "cell_type": "code",
   "execution_count": 18,
   "id": "56f4068f-2fe7-4e46-8e2a-25b6219f0796",
   "metadata": {
    "ExecutionIndicator": {
     "show": false
    },
    "execution": {
     "iopub.execute_input": "2024-09-25T15:42:37.940041Z",
     "iopub.status.busy": "2024-09-25T15:42:37.939705Z",
     "iopub.status.idle": "2024-09-25T15:42:38.173326Z",
     "shell.execute_reply": "2024-09-25T15:42:38.172860Z",
     "shell.execute_reply.started": "2024-09-25T15:42:37.940021Z"
    },
    "tags": []
   },
   "outputs": [
    {
     "name": "stderr",
     "output_type": "stream",
     "text": [
      "Number of requested results 4 is greater than number of elements in index 3, updating n_results = 3\n"
     ]
    },
    {
     "name": "stdout",
     "output_type": "stream",
     "text": [
      "[Document(metadata={'page': 0, 'source': 'book/1.pdf'}, page_content='第一回 桃园结义\\n  \\u3000\\u3000东汉末年，朝政腐败，再加上连年灾荒，老百姓的日子非常困苦。巨鹿人张角见人民怨恨官府，便与\\n他的弟弟张梁、张宝在河北、河南、山东、湖北、江苏等地，招收了五十万人，举行起义，一起向官兵进攻。\\n\\u3000\\u3000没有几天，四方百姓，头裹黄巾，跟随张角三兄弟杀向官府，声势非常浩大。汉灵帝得到各地报告，连忙\\n下令各地官军防备。又派中郎将卢植、皇甫嵩、朱隽率领一精一兵，分路攻打张角兄弟的黄巾军。\\n\\u3000\\u3000张角领军攻打幽州地界，幽州太守连忙召校尉邹靖商议，邹靖说幽州兵少不能抵挡。建议写榜文到各县招\\n募兵马。\\n\\u3000\\u3000榜文行到涿县，引出一名英雄，这人姓刘名备，字玄德。因家里贫寒，靠贩麻鞋、织草席为生。这天他进\\n城来看榜文。\\n\\u3000\\u3000刘备看完了榜文，不觉感慨地长叹了一声。忽听身后有个人大声喝道∶“大丈夫不给国家出力，叹什么\\n气？”\\n\\u3000\\u3000刘备回头一看，这人身高八尺，豹子头，圆眼睛，满腮的胡须像钢丝一样竖着，声音像洪钟，样子十分威\\n武。那人对刘备说他姓张名飞，字翼德，做着卖酒、屠宰猪羊的生意。他愿意拿出家产作本钱，与刘备共同干\\n一番大事业。\\n\\u3000\\u3000刘备、张飞两人谈得投机，便一起到村 口的一家酒 店饮酒叙话。\\n\\u3000\\u3000这时，一推车大汉进店饮酒。刘备 留神一看，这人有 九尺高，胸前长须飘飘，脸色好像红枣一样，长一 双\\n丹凤眼，两条卧蚕眉，相貌非常威武雄 伟。刘备连忙起身， 邀他过来同坐，并请问姓名。\\n\\u3000\\u3000那人说∶“ 我姓关名羽，字云长，因乡里恶霸仗势欺人，我一怒杀了恶霸，逃到外乡避难已有五、六年\\n了。”刘备、张飞听了 都很敬佩，也将自己的志愿告诉了关羽。关羽听了也非常高兴。\\n\\u3000\\u3000酒后他 们一同来到张飞的 庄上，只见庄后有一座桃园，园中桃 花灿烂，景色很美。第二天，三人在园中 焚\\n香礼拜，宣誓结为异姓兄弟，三人 按年岁认了兄弟，刘备做了大 哥，关羽第二，张飞最小，做了弟弟。\\n\\u3000\\u3000三人 请来铁匠打造兵器。刘备打 造了双股剑，关羽打了把八十二斤的青龙偃月刀，张飞造了一支丈八点钢\\n矛，各人又 造了一身铠甲。\\n\\u3000\\u3000他们聚集乡中壮士五百多人，浩浩 荡荡到涿郡去应募。\\n\\u3000\\u3000三人在涿 郡打败了黄巾军将领 程远志。刘备听说他 从前的老师中郎将卢植在 广宗和张角作战，便领了本 部\\n人马到广宗助战。卢植令刘备三兄弟 前往颍川帮助官军作战。刘备、 关羽、张飞引军连 夜奔赴颍川。\\n\\u3000\\u3000再说张梁、张宝在 颍川连胜几阵，这天正在追赶官军，忽 然被一队打着红旗的队伍拦住去路。为首一将姓\\n曹名操，字孟德。张梁、张宝打不 过这支队伍，领兵败 走。\\n\\u3000\\u3000刘备见黄巾军 退走，便引军 返回广宗。半途中，忽见一 支军马押着囚车而来。上前一看，车中犯人竟是卢\\n植，慌忙下马询问原因，才明白左丰因卢植未奉送金银，便在皇帝 面前使坏。张飞一听大 怒，拔刀要杀押送囚\\n车的官兵救出卢植。刘备 急忙拦住，说朝廷自有公论。\\n\\u3000\\u3000三人便一 齐回涿县去。正进间，见黄巾军 把董卓领导的官军杀得大败。三人 冲入阵中，救出了董卓。不料\\n董卓一听三人 并无官职，立刻把三人丢在外边，下马进 帐去了。张飞 顿时火冒三丈，便 拔刀进帐要杀董卓，又\\n被刘备劝住。三人于是领着人马，连 夜去投朱隽。\\n\\u3000\\u3000朱隽那 时正在与黄巾军作 战，便令刘备为 先锋去攻打张宝。刘备一 箭射中张宝左臂，关羽、张飞一 齐出马\\n助战，打败了张宝。朱隽便领大军 去攻打宛城。\\n\\u3000\\u3000这时，张角兄弟 先后战死，黄巾军 只剩下数万人屯住宛城一带。\\n\\u3000\\u3000朱隽在刘备、 关羽、张飞和吴郡人孙坚的帮助下，占了宛城，打败了黄巾军。朱隽回到 京城，被封为车骑\\n将军、河南 尹。\\n\\u3000\\u3000朱隽 表奏了孙坚、刘备的 功勋。刘备因朝中 无人说情，被封为中山府 安喜县县尉。不 久，督邮来到安喜。\\n刘备因没有向 督邮送钱被督邮陷害。刘备几 次到馆驿求见督邮，都被看门人拦住，拒于门外。\\n\\u3000\\u3000消息传到张飞耳中，张飞气得两眼圆 睁，冲进馆驿揪住督邮的头发，扯到县衙前，绑在马桩上，用柳条使\\n劲抽打，一连打 断十几根柳条，打得督邮杀猪般叫喊求饶。\\n\\u3000\\u3000刘备 遭督邮欺辱，便取出县尉官 印，挂在督邮脖子上，弃官而去。兄弟三人 依旧带了几十名 亲随，离开安\\n喜县城，前往幽州投靠刘 恢。')]\n"
     ]
    }
   ],
   "source": [
    "query = \"桃源三结义都有谁？\"\n",
    "docs = docsearch.get_relevant_documents(query)\n",
    "print(docs[:1])   # Ensure the document search returns relevant content"
   ]
  },
  {
   "cell_type": "code",
   "execution_count": 15,
   "id": "7653e588-a27a-47fd-930d-890f4f3bfc7e",
   "metadata": {
    "ExecutionIndicator": {
     "show": false
    },
    "execution": {
     "iopub.execute_input": "2024-09-25T15:41:12.903564Z",
     "iopub.status.busy": "2024-09-25T15:41:12.903241Z",
     "iopub.status.idle": "2024-09-25T15:41:13.609858Z",
     "shell.execute_reply": "2024-09-25T15:41:13.608927Z",
     "shell.execute_reply.started": "2024-09-25T15:41:12.903530Z"
    },
    "tags": []
   },
   "outputs": [
    {
     "ename": "ValueError",
     "evalue": "Missing some input keys: {'question'}",
     "output_type": "error",
     "traceback": [
      "\u001b[0;31m---------------------------------------------------------------------------\u001b[0m",
      "\u001b[0;31mValueError\u001b[0m                                Traceback (most recent call last)",
      "Cell \u001b[0;32mIn[17], line 2\u001b[0m\n\u001b[1;32m      1\u001b[0m chain \u001b[38;5;241m=\u001b[39m load_qa_chain(ChatGLM3(temperature\u001b[38;5;241m=\u001b[39m\u001b[38;5;241m0\u001b[39m), chain_type\u001b[38;5;241m=\u001b[39m\u001b[38;5;124m\"\u001b[39m\u001b[38;5;124mstuff\u001b[39m\u001b[38;5;124m\"\u001b[39m)\n\u001b[0;32m----> 2\u001b[0m output \u001b[38;5;241m=\u001b[39m \u001b[43mchain\u001b[49m\u001b[38;5;241;43m.\u001b[39;49m\u001b[43minvoke\u001b[49m\u001b[43m(\u001b[49m\u001b[38;5;28;43minput\u001b[39;49m\u001b[38;5;241;43m=\u001b[39;49m\u001b[43mdocs\u001b[49m\u001b[43m,\u001b[49m\u001b[43m \u001b[49m\u001b[43mquestion\u001b[49m\u001b[38;5;241;43m=\u001b[39;49m\u001b[43mquery\u001b[49m\u001b[43m)\u001b[49m\n\u001b[1;32m      3\u001b[0m \u001b[38;5;28mprint\u001b[39m(output)\n",
      "File \u001b[0;32m/usr/local/lib/python3.10/site-packages/langchain/chains/base.py:164\u001b[0m, in \u001b[0;36mChain.invoke\u001b[0;34m(self, input, config, **kwargs)\u001b[0m\n\u001b[1;32m    162\u001b[0m \u001b[38;5;28;01mexcept\u001b[39;00m \u001b[38;5;167;01mBaseException\u001b[39;00m \u001b[38;5;28;01mas\u001b[39;00m e:\n\u001b[1;32m    163\u001b[0m     run_manager\u001b[38;5;241m.\u001b[39mon_chain_error(e)\n\u001b[0;32m--> 164\u001b[0m     \u001b[38;5;28;01mraise\u001b[39;00m e\n\u001b[1;32m    165\u001b[0m run_manager\u001b[38;5;241m.\u001b[39mon_chain_end(outputs)\n\u001b[1;32m    167\u001b[0m \u001b[38;5;28;01mif\u001b[39;00m include_run_info:\n",
      "File \u001b[0;32m/usr/local/lib/python3.10/site-packages/langchain/chains/base.py:152\u001b[0m, in \u001b[0;36mChain.invoke\u001b[0;34m(self, input, config, **kwargs)\u001b[0m\n\u001b[1;32m    145\u001b[0m run_manager \u001b[38;5;241m=\u001b[39m callback_manager\u001b[38;5;241m.\u001b[39mon_chain_start(\n\u001b[1;32m    146\u001b[0m     dumpd(\u001b[38;5;28mself\u001b[39m),\n\u001b[1;32m    147\u001b[0m     inputs,\n\u001b[1;32m    148\u001b[0m     run_id,\n\u001b[1;32m    149\u001b[0m     name\u001b[38;5;241m=\u001b[39mrun_name,\n\u001b[1;32m    150\u001b[0m )\n\u001b[1;32m    151\u001b[0m \u001b[38;5;28;01mtry\u001b[39;00m:\n\u001b[0;32m--> 152\u001b[0m     \u001b[38;5;28;43mself\u001b[39;49m\u001b[38;5;241;43m.\u001b[39;49m\u001b[43m_validate_inputs\u001b[49m\u001b[43m(\u001b[49m\u001b[43minputs\u001b[49m\u001b[43m)\u001b[49m\n\u001b[1;32m    153\u001b[0m     outputs \u001b[38;5;241m=\u001b[39m (\n\u001b[1;32m    154\u001b[0m         \u001b[38;5;28mself\u001b[39m\u001b[38;5;241m.\u001b[39m_call(inputs, run_manager\u001b[38;5;241m=\u001b[39mrun_manager)\n\u001b[1;32m    155\u001b[0m         \u001b[38;5;28;01mif\u001b[39;00m new_arg_supported\n\u001b[1;32m    156\u001b[0m         \u001b[38;5;28;01melse\u001b[39;00m \u001b[38;5;28mself\u001b[39m\u001b[38;5;241m.\u001b[39m_call(inputs)\n\u001b[1;32m    157\u001b[0m     )\n\u001b[1;32m    159\u001b[0m     final_outputs: Dict[\u001b[38;5;28mstr\u001b[39m, Any] \u001b[38;5;241m=\u001b[39m \u001b[38;5;28mself\u001b[39m\u001b[38;5;241m.\u001b[39mprep_outputs(\n\u001b[1;32m    160\u001b[0m         inputs, outputs, return_only_outputs\n\u001b[1;32m    161\u001b[0m     )\n",
      "File \u001b[0;32m/usr/local/lib/python3.10/site-packages/langchain/chains/base.py:282\u001b[0m, in \u001b[0;36mChain._validate_inputs\u001b[0;34m(self, inputs)\u001b[0m\n\u001b[1;32m    280\u001b[0m missing_keys \u001b[38;5;241m=\u001b[39m \u001b[38;5;28mset\u001b[39m(\u001b[38;5;28mself\u001b[39m\u001b[38;5;241m.\u001b[39minput_keys)\u001b[38;5;241m.\u001b[39mdifference(inputs)\n\u001b[1;32m    281\u001b[0m \u001b[38;5;28;01mif\u001b[39;00m missing_keys:\n\u001b[0;32m--> 282\u001b[0m     \u001b[38;5;28;01mraise\u001b[39;00m \u001b[38;5;167;01mValueError\u001b[39;00m(\u001b[38;5;124mf\u001b[39m\u001b[38;5;124m\"\u001b[39m\u001b[38;5;124mMissing some input keys: \u001b[39m\u001b[38;5;132;01m{\u001b[39;00mmissing_keys\u001b[38;5;132;01m}\u001b[39;00m\u001b[38;5;124m\"\u001b[39m)\n",
      "\u001b[0;31mValueError\u001b[0m: Missing some input keys: {'question'}"
     ]
    }
   ],
   "source": [
    "chain = load_qa_chain(ChatGLM3(temperature=0), chain_type=\"stuff\")\n",
    "output = chain.run(input_documents=docs, question=query)\n",
    "print(output)"
   ]
  }
 ],
 "metadata": {
  "kernelspec": {
   "display_name": "Python 3 (ipykernel)",
   "language": "python",
   "name": "python3"
  },
  "language_info": {
   "codemirror_mode": {
    "name": "ipython",
    "version": 3
   },
   "file_extension": ".py",
   "mimetype": "text/x-python",
   "name": "python",
   "nbconvert_exporter": "python",
   "pygments_lexer": "ipython3",
   "version": "3.10.14"
  },
  "share": {
   "datetime": "2024-09-25T14:15:19.446Z",
   "image": {
    "name": null,
    "url": null
   },
   "instance": null,
   "spec": {
    "id": null,
    "type": null
   },
   "uid": "1161546427181466"
  }
 },
 "nbformat": 4,
 "nbformat_minor": 5
}
