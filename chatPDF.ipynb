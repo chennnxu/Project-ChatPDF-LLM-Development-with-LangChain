{
 "cells": [
  {
   "cell_type": "code",
   "execution_count": 15,
   "id": "d68fa52a-82e1-4921-bc3f-ec28c222285e",
   "metadata": {
    "ExecutionIndicator": {
     "show": true
    },
    "execution": {
     "iopub.execute_input": "2024-09-26T09:49:01.000892Z",
     "iopub.status.busy": "2024-09-26T09:49:01.000551Z",
     "iopub.status.idle": "2024-09-26T09:49:01.005479Z",
     "shell.execute_reply": "2024-09-26T09:49:01.004817Z",
     "shell.execute_reply.started": "2024-09-26T09:49:01.000862Z"
    },
    "tags": []
   },
   "outputs": [
    {
     "data": {
      "text/plain": [
       "True"
      ]
     },
     "execution_count": 15,
     "metadata": {},
     "output_type": "execute_result"
    }
   ],
   "source": [
    "import os\n",
    "\n",
    "from dotenv import load_dotenv, find_dotenv\n",
    "load_dotenv(find_dotenv())  # read local .env file"
   ]
  },
  {
   "cell_type": "code",
   "execution_count": 16,
   "id": "64818842-50ba-4c3f-870c-55607744d215",
   "metadata": {
    "ExecutionIndicator": {
     "show": true
    },
    "execution": {
     "iopub.execute_input": "2024-09-26T09:49:02.430977Z",
     "iopub.status.busy": "2024-09-26T09:49:02.430633Z",
     "iopub.status.idle": "2024-09-26T09:49:02.433992Z",
     "shell.execute_reply": "2024-09-26T09:49:02.433352Z",
     "shell.execute_reply.started": "2024-09-26T09:49:02.430957Z"
    },
    "tags": []
   },
   "outputs": [],
   "source": [
    "baichuan_auth_token = os.getenv('BAICHUAN_AUTH_TOKEN')\n",
    "if not baichuan_auth_token:\n",
    "    raise ValueError(\"BAICHUAN_AUTH_TOKEN is not set in the environment variables\")"
   ]
  },
  {
   "cell_type": "code",
   "execution_count": 17,
   "id": "8238c07e-612a-4ff5-b0c2-dc24d1fb9d05",
   "metadata": {
    "ExecutionIndicator": {
     "show": true
    },
    "execution": {
     "iopub.execute_input": "2024-09-26T09:49:03.699678Z",
     "iopub.status.busy": "2024-09-26T09:49:03.699360Z",
     "iopub.status.idle": "2024-09-26T09:49:03.716628Z",
     "shell.execute_reply": "2024-09-26T09:49:03.716188Z",
     "shell.execute_reply.started": "2024-09-26T09:49:03.699658Z"
    },
    "scrolled": true,
    "tags": []
   },
   "outputs": [],
   "source": [
    "from langchain.document_loaders import PyPDFLoader\n",
    "from langchain.vectorstores import Chroma\n",
    "# from langchain.embeddings import OpenAIEmbeddings\n",
    "from langchain_community.embeddings import BaichuanTextEmbeddings\n",
    "\n",
    "# from langchain.llms import OpenAI\n",
    "from langchain_community.llms.chatglm3 import ChatGLM3\n",
    "from langchain.chains import create_qa_with_sources_chain\n"
   ]
  },
  {
   "cell_type": "code",
   "execution_count": 18,
   "id": "76eabaed-fa51-4391-a198-bef6e612d884",
   "metadata": {
    "ExecutionIndicator": {
     "show": true
    },
    "execution": {
     "iopub.execute_input": "2024-09-26T09:49:05.519647Z",
     "iopub.status.busy": "2024-09-26T09:49:05.519314Z",
     "iopub.status.idle": "2024-09-26T09:49:05.552663Z",
     "shell.execute_reply": "2024-09-26T09:49:05.552178Z",
     "shell.execute_reply.started": "2024-09-26T09:49:05.519628Z"
    },
    "tags": []
   },
   "outputs": [],
   "source": [
    "loader = PyPDFLoader(\"book/1.pdf\")\n",
    "pages = loader.load_and_split()"
   ]
  },
  {
   "cell_type": "code",
   "execution_count": 19,
   "id": "aa5c37d9-1e58-4794-b443-2817318cc042",
   "metadata": {
    "ExecutionIndicator": {
     "show": true
    },
    "execution": {
     "iopub.execute_input": "2024-09-26T09:49:06.930597Z",
     "iopub.status.busy": "2024-09-26T09:49:06.930275Z",
     "iopub.status.idle": "2024-09-26T09:49:06.933544Z",
     "shell.execute_reply": "2024-09-26T09:49:06.932906Z",
     "shell.execute_reply.started": "2024-09-26T09:49:06.930577Z"
    },
    "tags": []
   },
   "outputs": [],
   "source": [
    "# embeddings = OpenAIEmbeddings()\n",
    "embeddings = BaichuanTextEmbeddings()"
   ]
  },
  {
   "cell_type": "code",
   "execution_count": 20,
   "id": "dbef3a88-87c3-4e98-b34f-cc06859a8b83",
   "metadata": {
    "execution": {
     "iopub.execute_input": "2024-09-26T09:49:08.840925Z",
     "iopub.status.busy": "2024-09-26T09:49:08.840555Z",
     "iopub.status.idle": "2024-09-26T09:49:13.526345Z",
     "shell.execute_reply": "2024-09-26T09:49:13.525827Z",
     "shell.execute_reply.started": "2024-09-26T09:49:08.840900Z"
    },
    "tags": []
   },
   "outputs": [],
   "source": [
    "try:\n",
    "    docsearch = Chroma.from_documents(pages, embeddings).as_retriever()\n",
    "except Exception as e:\n",
    "    print(f\"Error creating document search: {e}\")\n",
    "    raise"
   ]
  },
  {
   "cell_type": "code",
   "execution_count": 21,
   "id": "56f4068f-2fe7-4e46-8e2a-25b6219f0796",
   "metadata": {
    "ExecutionIndicator": {
     "show": false
    },
    "execution": {
     "iopub.execute_input": "2024-09-26T09:49:30.471940Z",
     "iopub.status.busy": "2024-09-26T09:49:30.471603Z",
     "iopub.status.idle": "2024-09-26T09:49:30.670984Z",
     "shell.execute_reply": "2024-09-26T09:49:30.670543Z",
     "shell.execute_reply.started": "2024-09-26T09:49:30.471919Z"
    },
    "tags": []
   },
   "outputs": [
    {
     "name": "stderr",
     "output_type": "stream",
     "text": [
      "Number of requested results 4 is greater than number of elements in index 2, updating n_results = 2\n"
     ]
    },
    {
     "name": "stdout",
     "output_type": "stream",
     "text": [
      "[Document(metadata={'page': 0, 'source': 'book/1.pdf'}, page_content='第一回 桃园结义\\n  \\u3000\\u3000东汉末年，朝政腐败，再加上连年灾荒，老百姓的日子非常困苦。巨鹿人张角见人民怨恨官府，便与\\n他的弟弟张梁、张宝在河北、河南、山东、湖北、江苏等地，招收了五十万人，举行起义，一起向官兵进攻。\\n\\u3000\\u3000没有几天，四方百姓，头裹黄巾，跟随张角三兄弟杀向官府，声势非常浩大。汉灵帝得到各地报告，连忙\\n下令各地官军防备。又派中郎将卢植、皇甫嵩、朱隽率领一精一兵，分路攻打张角兄弟的黄巾军。\\n\\u3000\\u3000张角领军攻打幽州地界，幽州太守连忙召校尉邹靖商议，邹靖说幽州兵少不能抵挡。建议写榜文到各县招\\n募兵马。\\n\\u3000\\u3000榜文行到涿县，引出一名英雄，这人姓刘名备，字玄德。因家里贫寒，靠贩麻鞋、织草席为生。这天他进\\n城来看榜文。\\n\\u3000\\u3000刘备看完了榜文，不觉感慨地长叹了一声。忽听身后有个人大声喝道∶“大丈夫不给国家出力，叹什么\\n气？”\\n\\u3000\\u3000刘备回头一看，这人身高八尺，豹子头，圆眼睛，满腮的胡须像钢丝一样竖着，声音像洪钟，样子十分威\\n武。那人对刘备说他姓张名飞，字翼德，做着卖酒、屠宰猪羊的生意。他愿意拿出家产作本钱，与刘备共同干\\n一番大事业。\\n\\u3000\\u3000刘备、张飞两人谈得投机，便一起到村 口的一家酒 店饮酒叙话。\\n\\u3000\\u3000这时，一推车大汉进店饮酒。刘备 留神一看，这人有 九尺高，胸前长须飘飘，脸色好像红枣一样，长一 双\\n丹凤眼，两条卧蚕眉，相貌非常威武雄 伟。刘备连忙起身， 邀他过来同坐，并请问姓名。\\n\\u3000\\u3000那人说∶“ 我姓关名羽，字云长，因乡里恶霸仗势欺人，我一怒杀了恶霸，逃到外乡避难已有五、六年\\n了。”刘备、张飞听了 都很敬佩，也将自己的志愿告诉了关羽。关羽听了也非常高兴。\\n\\u3000\\u3000酒后他 们一同来到张飞的 庄上，只见庄后有一座桃园，园中桃 花灿烂，景色很美。第二天，三人在园中 焚\\n香礼拜，宣誓结为异姓兄弟，三人 按年岁认了兄弟，刘备做了大 哥，关羽第二，张飞最小，做了弟弟。\\n\\u3000\\u3000三人 请来铁匠打造兵器。刘备打 造了双股剑，关羽打了把八十二斤的青龙偃月刀，张飞造了一支丈八点钢\\n矛，各人又 造了一身铠甲。\\n\\u3000\\u3000他们聚集乡中壮士五百多人，浩浩 荡荡到涿郡去应募。\\n\\u3000\\u3000三人在涿 郡打败了黄巾军将领 程远志。刘备听说他 从前的老师中郎将卢植在 广宗和张角作战，便领了本 部\\n人马到广宗助战。卢植令刘备三兄弟 前往颍川帮助官军作战。刘备、 关羽、张飞引军连 夜奔赴颍川。\\n\\u3000\\u3000再说张梁、张宝在 颍川连胜几阵，这天正在追赶官军，忽 然被一队打着红旗的队伍拦住去路。为首一将姓\\n曹名操，字孟德。张梁、张宝打不 过这支队伍，领兵败 走。\\n\\u3000\\u3000刘备见黄巾军 退走，便引军 返回广宗。半途中，忽见一 支军马押着囚车而来。上前一看，车中犯人竟是卢\\n植，慌忙下马询问原因，才明白左丰因卢植未奉送金银，便在皇帝 面前使坏。张飞一听大 怒，拔刀要杀押送囚\\n车的官兵救出卢植。刘备 急忙拦住，说朝廷自有公论。\\n\\u3000\\u3000三人便一 齐回涿县去。正进间，见黄巾军 把董卓领导的官军杀得大败。三人 冲入阵中，救出了董卓。不料\\n董卓一听三人 并无官职，立刻把三人丢在外边，下马进 帐去了。张飞 顿时火冒三丈，便 拔刀进帐要杀董卓，又\\n被刘备劝住。三人于是领着人马，连 夜去投朱隽。\\n\\u3000\\u3000朱隽那 时正在与黄巾军作 战，便令刘备为 先锋去攻打张宝。刘备一 箭射中张宝左臂，关羽、张飞一 齐出马\\n助战，打败了张宝。朱隽便领大军 去攻打宛城。\\n\\u3000\\u3000这时，张角兄弟 先后战死，黄巾军 只剩下数万人屯住宛城一带。\\n\\u3000\\u3000朱隽在刘备、 关羽、张飞和吴郡人孙坚的帮助下，占了宛城，打败了黄巾军。朱隽回到 京城，被封为车骑\\n将军、河南 尹。\\n\\u3000\\u3000朱隽 表奏了孙坚、刘备的 功勋。刘备因朝中 无人说情，被封为中山府 安喜县县尉。不 久，督邮来到安喜。\\n刘备因没有向 督邮送钱被督邮陷害。刘备几 次到馆驿求见督邮，都被看门人拦住，拒于门外。\\n\\u3000\\u3000消息传到张飞耳中，张飞气得两眼圆 睁，冲进馆驿揪住督邮的头发，扯到县衙前，绑在马桩上，用柳条使\\n劲抽打，一连打 断十几根柳条，打得督邮杀猪般叫喊求饶。\\n\\u3000\\u3000刘备 遭督邮欺辱，便取出县尉官 印，挂在督邮脖子上，弃官而去。兄弟三人 依旧带了几十名 亲随，离开安\\n喜县城，前往幽州投靠刘 恢。')]\n"
     ]
    }
   ],
   "source": [
    "query = \"桃源三结义都有谁？\"\n",
    "docs = docsearch.get_relevant_documents(query)\n",
    "print(docs[:1])   # Ensure the document search returns relevant content"
   ]
  },
  {
   "cell_type": "code",
   "execution_count": 22,
   "id": "7653e588-a27a-47fd-930d-890f4f3bfc7e",
   "metadata": {
    "ExecutionIndicator": {
     "show": true
    },
    "execution": {
     "iopub.execute_input": "2024-09-26T09:49:36.773919Z",
     "iopub.status.busy": "2024-09-26T09:49:36.773578Z",
     "iopub.status.idle": "2024-09-26T09:49:36.782872Z",
     "shell.execute_reply": "2024-09-26T09:49:36.782430Z",
     "shell.execute_reply.started": "2024-09-26T09:49:36.773898Z"
    },
    "tags": []
   },
   "outputs": [
    {
     "name": "stderr",
     "output_type": "stream",
     "text": [
      "/tmp/ipykernel_4271/47225537.py:1: LangChainDeprecationWarning: This function is deprecated. Refer to this guide on retrieval and question answering with sources: https://python.langchain.com/v0.2/docs/how_to/qa_sources/#structure-sources-in-model-response\n",
      "  chain = create_qa_with_sources_chain(ChatGLM3(temperature=0))\n"
     ]
    }
   ],
   "source": [
    "chain = create_qa_with_sources_chain(ChatGLM3(temperature=0))"
   ]
  },
  {
   "cell_type": "code",
   "execution_count": null,
   "id": "b65b01df-5bc8-41e0-bdf8-e80570571b35",
   "metadata": {
    "ExecutionIndicator": {
     "show": true
    },
    "tags": []
   },
   "outputs": [],
   "source": [
    "try:\n",
    "    output = chain.invoke({\"input_documents\": docs, \"question\": query})\n",
    "    print(output)\n",
    "except ValueError as ve:\n",
    "    print(f\"Value Error: {ve}\")\n",
    "except ConnectionError as ce:\n",
    "    print(f\"Connection Error: {ce}\")\n",
    "except Exception as e:\n",
    "    print(f\"Unexpected error: {e}\")\n",
    "    raise"
   ]
  }
 ],
 "metadata": {
  "kernelspec": {
   "display_name": "Python 3 (ipykernel)",
   "language": "python",
   "name": "python3"
  },
  "language_info": {
   "codemirror_mode": {
    "name": "ipython",
    "version": 3
   },
   "file_extension": ".py",
   "mimetype": "text/x-python",
   "name": "python",
   "nbconvert_exporter": "python",
   "pygments_lexer": "ipython3",
   "version": "3.10.14"
  },
  "share": {
   "datetime": "2024-09-25T14:15:19.446Z",
   "image": {
    "name": null,
    "url": null
   },
   "instance": null,
   "spec": {
    "id": null,
    "type": null
   },
   "uid": "1161546427181466"
  }
 },
 "nbformat": 4,
 "nbformat_minor": 5
}
